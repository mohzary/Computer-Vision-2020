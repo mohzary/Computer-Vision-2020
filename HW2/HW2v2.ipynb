{
 "cells": [
  {
   "cell_type": "code",
   "execution_count": 1,
   "metadata": {},
   "outputs": [],
   "source": [
    "from glob import glob\n",
    "import cv2\n",
    "import matplotlib.pyplot as plt\n",
    "import numpy as np\n",
    "import imutils\n",
    "%matplotlib inline"
   ]
  },
  {
   "cell_type": "code",
   "execution_count": 2,
   "metadata": {},
   "outputs": [
    {
     "name": "stdout",
     "output_type": "stream",
     "text": [
      "100  Images were extracted from dataset.\n"
     ]
    }
   ],
   "source": [
    "#getImages() function to extract images from local folder \n",
    "\n",
    "\n",
    "# images list to store extracted images from data set folder\n",
    "images = [] \n",
    "\n",
    "\n",
    "def getImages():\n",
    "    \n",
    "    \n",
    "    #To loop through images in the dataset folder\n",
    "    for image in glob(\"dataset/*.jpg\"):\n",
    "        if (len(images)<100):\n",
    "            #To read imag from dataset folder using cv2, cv2 reads images in BGR format\n",
    "            imgBGR = cv2.imread(image)\n",
    "            #To convert image into gray scale\n",
    "            grayImage = cv2.cvtColor(imgBGR, cv2.COLOR_BGR2GRAY)\n",
    "            #To save image in the images list to be used later by another functions\n",
    "            images.append(grayImage)\n",
    "    #To show the number of extracted images    \n",
    "    print (len(images), \" Images were extracted from dataset.\")\n",
    "    \n",
    "    \n",
    "    \n",
    "#To call getImages() function   \n",
    "getImages()"
   ]
  },
  {
   "cell_type": "code",
   "execution_count": 3,
   "metadata": {},
   "outputs": [
    {
     "ename": "AttributeError",
     "evalue": "module 'cv2.cv2' has no attribute 'xfeatures2d'",
     "output_type": "error",
     "traceback": [
      "\u001b[0;31m---------------------------------------------------------------------------\u001b[0m",
      "\u001b[0;31mAttributeError\u001b[0m                            Traceback (most recent call last)",
      "\u001b[0;32m<ipython-input-3-dd99b4e3c82b>\u001b[0m in \u001b[0;36m<module>\u001b[0;34m\u001b[0m\n\u001b[1;32m     54\u001b[0m             \u001b[0mimageFeatures_HoG\u001b[0m\u001b[0;34m.\u001b[0m\u001b[0mappend\u001b[0m\u001b[0;34m(\u001b[0m\u001b[0mcomputeImageFeatures\u001b[0m\u001b[0;34m(\u001b[0m\u001b[0mimage\u001b[0m\u001b[0;34m,\u001b[0m \u001b[0mmethod\u001b[0m\u001b[0;34m)\u001b[0m\u001b[0;34m)\u001b[0m\u001b[0;34m\u001b[0m\u001b[0;34m\u001b[0m\u001b[0m\n\u001b[1;32m     55\u001b[0m         \u001b[0;32melif\u001b[0m \u001b[0mmethod\u001b[0m \u001b[0;34m==\u001b[0m \u001b[0;34m\"Dense\"\u001b[0m\u001b[0;34m:\u001b[0m\u001b[0;34m\u001b[0m\u001b[0;34m\u001b[0m\u001b[0m\n\u001b[0;32m---> 56\u001b[0;31m             \u001b[0mimageFeatures_Dense\u001b[0m\u001b[0;34m.\u001b[0m\u001b[0mappend\u001b[0m\u001b[0;34m(\u001b[0m\u001b[0mcomputeImageFeatures\u001b[0m\u001b[0;34m(\u001b[0m\u001b[0mimage\u001b[0m\u001b[0;34m,\u001b[0m \u001b[0mmethod\u001b[0m\u001b[0;34m)\u001b[0m\u001b[0;34m)\u001b[0m\u001b[0;34m\u001b[0m\u001b[0;34m\u001b[0m\u001b[0m\n\u001b[0m\u001b[1;32m     57\u001b[0m         \u001b[0;32melif\u001b[0m \u001b[0mmethod\u001b[0m \u001b[0;34m==\u001b[0m\u001b[0;34m\"SIFT\"\u001b[0m\u001b[0;34m:\u001b[0m\u001b[0;34m\u001b[0m\u001b[0;34m\u001b[0m\u001b[0m\n\u001b[1;32m     58\u001b[0m             \u001b[0mimageFeatures_SIFT\u001b[0m\u001b[0;34m.\u001b[0m\u001b[0mappend\u001b[0m\u001b[0;34m(\u001b[0m\u001b[0mcomputeImageFeatures\u001b[0m\u001b[0;34m(\u001b[0m\u001b[0mimage\u001b[0m\u001b[0;34m,\u001b[0m \u001b[0mmethod\u001b[0m\u001b[0;34m)\u001b[0m\u001b[0;34m)\u001b[0m\u001b[0;34m\u001b[0m\u001b[0;34m\u001b[0m\u001b[0m\n",
      "\u001b[0;32m<ipython-input-3-dd99b4e3c82b>\u001b[0m in \u001b[0;36mcomputeImageFeatures\u001b[0;34m(image, method)\u001b[0m\n\u001b[1;32m     28\u001b[0m     \u001b[0;31m#To compute Dense:\u001b[0m\u001b[0;34m\u001b[0m\u001b[0;34m\u001b[0m\u001b[0;34m\u001b[0m\u001b[0m\n\u001b[1;32m     29\u001b[0m     \u001b[0;32melif\u001b[0m \u001b[0mmethod\u001b[0m \u001b[0;34m==\u001b[0m \u001b[0;34m\"Dense\"\u001b[0m\u001b[0;34m:\u001b[0m\u001b[0;34m\u001b[0m\u001b[0;34m\u001b[0m\u001b[0m\n\u001b[0;32m---> 30\u001b[0;31m         \u001b[0msift\u001b[0m \u001b[0;34m=\u001b[0m \u001b[0mcv2\u001b[0m\u001b[0;34m.\u001b[0m\u001b[0mxfeatures2d\u001b[0m\u001b[0;34m.\u001b[0m\u001b[0mSIFT_create\u001b[0m\u001b[0;34m(\u001b[0m\u001b[0;34m)\u001b[0m\u001b[0;34m\u001b[0m\u001b[0;34m\u001b[0m\u001b[0m\n\u001b[0m\u001b[1;32m     31\u001b[0m         \u001b[0mstep_size\u001b[0m \u001b[0;34m=\u001b[0m \u001b[0;36m5\u001b[0m\u001b[0;34m\u001b[0m\u001b[0;34m\u001b[0m\u001b[0m\n\u001b[1;32m     32\u001b[0m         keyPoints = [cv2.KeyPoint(x, y, step_size) for y in range(0, image.shape[0], step_size) \n",
      "\u001b[0;31mAttributeError\u001b[0m: module 'cv2.cv2' has no attribute 'xfeatures2d'"
     ]
    }
   ],
   "source": [
    "#A list to store computed image features using HoG\n",
    "imageFeatures_HoG = []\n",
    "\n",
    "#A list to store computed image features using Dense SIFT\n",
    "imageFeatures_Dense = []\n",
    "\n",
    "#A list to store computed image features using SIFT\n",
    "imageFeatures_SIFT = []\n",
    "\n",
    "#Three methods we are going to use to compute image features\n",
    "methods = [\"HoG\", \"Dense\", \"SIFT\"]\n",
    "\n",
    "\n",
    "\n",
    "\n",
    "#python function that computes n x d features by calling  HoG, DSIFT and SIFT functions\n",
    "def computeImageFeatures(image, method):\n",
    "    \n",
    "    #To compute HoG:\n",
    "    if method == \"HoG\":\n",
    "        hog = cv2.HOGDescriptor()\n",
    "        h = hog.compute(image, None)\n",
    "        \n",
    "        #print(\"HoG is computed!\")\n",
    "        \n",
    "        return h\n",
    "    \n",
    "    #To compute Dense:    \n",
    "    elif method == \"Dense\":\n",
    "        sift = cv2.xfeatures2d.SIFT_create()\n",
    "        step_size = 5\n",
    "        keyPoints = [cv2.KeyPoint(x, y, step_size) for y in range(0, image.shape[0], step_size) \n",
    "                                    for x in range(0, image.shape[1], step_size)]\n",
    "        dense = sift.compute(image, keyPoints)\n",
    "        \n",
    "        #print(\"Dense is computed!\")\n",
    "\n",
    "        return dense\n",
    "    \n",
    "    \n",
    "    #To compute SIFT\n",
    "    elif method ==\"SIFT\":\n",
    "        sift = cv2.xfeatures2d.SIFT_create()\n",
    "        keyPoints, descriptors = sift.detectAndCompute(image, None)\n",
    "        \n",
    "        #print(\"SIFT is computed!\")\n",
    "  \n",
    "        return descriptors\n",
    "\n",
    "#To call computeImageFeatures and store features in three different lists\n",
    "for method in methods:\n",
    "    for image in images:\n",
    "        if method == \"HoG\":\n",
    "            imageFeatures_HoG.append(computeImageFeatures(image, method))\n",
    "        elif method == \"Dense\":\n",
    "            imageFeatures_Dense.append(computeImageFeatures(image, method))\n",
    "        elif method ==\"SIFT\":\n",
    "            imageFeatures_SIFT.append(computeImageFeatures(image, method))\n",
    "            \n",
    "            \n",
    "print(len(imageFeatures_HoG))\n",
    "print(len(imageFeatures_Dense))\n",
    "print(len(imageFeatures_SIFT))"
   ]
  },
  {
   "cell_type": "code",
   "execution_count": null,
   "metadata": {},
   "outputs": [],
   "source": []
  }
 ],
 "metadata": {
  "kernelspec": {
   "display_name": "Python 3",
   "language": "python",
   "name": "python3"
  },
  "language_info": {
   "codemirror_mode": {
    "name": "ipython",
    "version": 3
   },
   "file_extension": ".py",
   "mimetype": "text/x-python",
   "name": "python",
   "nbconvert_exporter": "python",
   "pygments_lexer": "ipython3",
   "version": "3.7.3"
  }
 },
 "nbformat": 4,
 "nbformat_minor": 2
}
