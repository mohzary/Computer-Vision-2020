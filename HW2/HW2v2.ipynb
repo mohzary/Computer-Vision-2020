{
 "cells": [
  {
   "cell_type": "code",
   "execution_count": 1,
   "metadata": {},
   "outputs": [],
   "source": [
    "#To import all required packages for HW2\n",
    "from glob import glob\n",
    "import cv2\n",
    "import matplotlib.pyplot as plt\n",
    "import numpy as np\n",
    "import imutils\n",
    "from fishervector import FisherVectorGMM\n",
    "%matplotlib inline"
   ]
  },
  {
   "cell_type": "code",
   "execution_count": 2,
   "metadata": {},
   "outputs": [
    {
     "name": "stdout",
     "output_type": "stream",
     "text": [
      "35  Images were extracted from dataset.\n"
     ]
    }
   ],
   "source": [
    "#Step(1) to extract images from dataset\n",
    "\n",
    "\n",
    "# images list to store extracted images from data set folder\n",
    "images = [] \n",
    "# To initilzie the number of images we want to use \n",
    "numberOfImages = 35\n",
    "\n",
    "#getImages() function to extract images from local folder \n",
    "def getImages(size):\n",
    "    \n",
    "    \n",
    "    #To loop through images in the dataset folder\n",
    "    for image in glob(\"dataset/*.jpg\"):\n",
    "        if (len(images)<size):\n",
    "            #To read imag from dataset folder using cv2, cv2 reads images in BGR format\n",
    "            imgBGR = cv2.imread(image)\n",
    "            #To convert image into gray scale\n",
    "            grayImage = cv2.cvtColor(imgBGR, cv2.COLOR_BGR2GRAY)\n",
    "            #To save image in the images list to be used later by another functions\n",
    "            images.append(grayImage)\n",
    "    #To show the number of extracted images    \n",
    "    print (len(images), \" Images were extracted from dataset.\")\n",
    "    \n",
    "    \n",
    "    \n",
    "#To call getImages() function   \n",
    "getImages(numberOfImages)"
   ]
  },
  {
   "cell_type": "code",
   "execution_count": 3,
   "metadata": {},
   "outputs": [
    {
     "name": "stdout",
     "output_type": "stream",
     "text": [
      "35\n",
      "35\n",
      "35\n"
     ]
    }
   ],
   "source": [
    "#Step(2): To build a function that computes HoG, Dense SIFT, and Sift.\n",
    "\n",
    "#A list to store computed image features using HoG\n",
    "imageFeatures_HoG = []\n",
    "\n",
    "#A list to store computed image features using Dense SIFT\n",
    "imageFeatures_Dense = []\n",
    "\n",
    "#A list to store computed image features using SIFT\n",
    "imageFeatures_SIFT = []\n",
    "\n",
    "#Three methods we are going to use to compute image features\n",
    "methods = [\"HoG\", \"Dense\", \"SIFT\"]\n",
    "\n",
    "\n",
    "\n",
    "\n",
    "#python function that computes n x d features by calling  HoG, DSIFT and SIFT functions\n",
    "def computeImageFeatures(image, method):\n",
    "    \n",
    "    #To compute HoG:\n",
    "    if method == \"HoG\":\n",
    "        hog = cv2.HOGDescriptor()\n",
    "        h = hog.compute(image, None)\n",
    "        \n",
    "        #print(\"HoG is computed!\")\n",
    "        \n",
    "        return h\n",
    "    \n",
    "    #To compute Dense:    \n",
    "    elif method == \"Dense\":\n",
    "        sift = cv2.xfeatures2d.SIFT_create()\n",
    "        step_size = 5\n",
    "        keyPoints = [cv2.KeyPoint(x, y, step_size) for y in range(0, image.shape[0], step_size) \n",
    "                                    for x in range(0, image.shape[1], step_size)]\n",
    "        keyPoints, descriptors = sift.compute(image, keyPoints)\n",
    "        \n",
    "        #print(\"Dense is computed!\")\n",
    "        \n",
    "        return descriptors\n",
    "    \n",
    "    \n",
    "    #To compute SIFT\n",
    "    elif method ==\"SIFT\":\n",
    "        sift = cv2.xfeatures2d.SIFT_create()\n",
    "        keyPoints, descriptors = sift.detectAndCompute(image, None)\n",
    "        \n",
    "        #print(\"SIFT is computed!\")\n",
    "  \n",
    "        return descriptors\n",
    "\n",
    "#To call computeImageFeatures and store features in three different lists\n",
    "for method in methods:\n",
    "    for image in images:\n",
    "        if method == \"HoG\":\n",
    "            imageFeatures_HoG.append(computeImageFeatures(image, method))\n",
    "        elif method == \"Dense\":\n",
    "            imageFeatures_Dense.append(computeImageFeatures(image, method))\n",
    "        elif method ==\"SIFT\":\n",
    "            imageFeatures_SIFT.append(computeImageFeatures(image, method))\n",
    "            \n",
    "            \n",
    "print(len(imageFeatures_HoG))\n",
    "print(len(imageFeatures_Dense))\n",
    "print(len(imageFeatures_SIFT))"
   ]
  },
  {
   "cell_type": "code",
   "execution_count": 4,
   "metadata": {},
   "outputs": [
    {
     "name": "stdout",
     "output_type": "stream",
     "text": [
      "[[0.1696406 ]\n",
      " [0.30958453]\n",
      " [0.3215025 ]\n",
      " ...\n",
      " [0.00311812]\n",
      " [0.00336075]\n",
      " [0.00932766]]\n",
      "-----------------------------------\n",
      "[[  0.   0.   0. ...   0.   0. 153.]\n",
      " [  0.   0.   0. ...   0.   0.  58.]\n",
      " [  0.   0.   0. ...   0.   0.  21.]\n",
      " ...\n",
      " [  6.   8. 176. ...   0.   0.   0.]\n",
      " [  0.   0. 188. ...   0.   0.   0.]\n",
      " [  0.   0. 202. ...   0.   0.   0.]]\n",
      "-----------------------------------\n",
      "[[  0.   1. 138. ...   0.  22.  70.]\n",
      " [  0.   0.   0. ...   0.  12.  59.]\n",
      " [  0.   0.   0. ...   0.   0.   0.]\n",
      " ...\n",
      " [ 37.  20.  14. ... 107. 108.   5.]\n",
      " [ 52.  13.   0. ...  70.   1.   0.]\n",
      " [ 15.  74. 150. ...   0.   0.   0.]]\n",
      "-----------------------------------\n"
     ]
    }
   ],
   "source": [
    "print(imageFeatures_HoG[0])\n",
    "print(\"-----------------------------------\")\n",
    "print(imageFeatures_Dense[0])\n",
    "print(\"-----------------------------------\")\n",
    "print(imageFeatures_SIFT[0])\n",
    "print(\"-----------------------------------\")"
   ]
  },
  {
   "cell_type": "code",
   "execution_count": 8,
   "metadata": {},
   "outputs": [
    {
     "ename": "AssertionError",
     "evalue": "X must be an ndarray with 3 or 4 dimensions",
     "output_type": "error",
     "traceback": [
      "\u001b[0;31m---------------------------------------------------------------------------\u001b[0m",
      "\u001b[0;31mAssertionError\u001b[0m                            Traceback (most recent call last)",
      "\u001b[0;32m<ipython-input-8-470ecf14817a>\u001b[0m in \u001b[0;36m<module>\u001b[0;34m\u001b[0m\n\u001b[1;32m     42\u001b[0m     \u001b[0;32mfor\u001b[0m \u001b[0mimage\u001b[0m \u001b[0;32min\u001b[0m \u001b[0mimages\u001b[0m\u001b[0;34m:\u001b[0m\u001b[0;34m\u001b[0m\u001b[0;34m\u001b[0m\u001b[0m\n\u001b[1;32m     43\u001b[0m         \u001b[0;32mif\u001b[0m \u001b[0mmethod\u001b[0m \u001b[0;34m==\u001b[0m \u001b[0;34m\"HoG\"\u001b[0m\u001b[0;34m:\u001b[0m\u001b[0;34m\u001b[0m\u001b[0;34m\u001b[0m\u001b[0m\n\u001b[0;32m---> 44\u001b[0;31m             \u001b[0mfv_GMM_HoG\u001b[0m\u001b[0;34m.\u001b[0m\u001b[0mappend\u001b[0m\u001b[0;34m(\u001b[0m\u001b[0mgetFisherVectorModel\u001b[0m\u001b[0;34m(\u001b[0m\u001b[0mmethod\u001b[0m\u001b[0;34m)\u001b[0m\u001b[0;34m)\u001b[0m\u001b[0;34m\u001b[0m\u001b[0;34m\u001b[0m\u001b[0m\n\u001b[0m\u001b[1;32m     45\u001b[0m         \u001b[0;32melif\u001b[0m \u001b[0mmethod\u001b[0m \u001b[0;34m==\u001b[0m \u001b[0;34m\"Dense\"\u001b[0m\u001b[0;34m:\u001b[0m\u001b[0;34m\u001b[0m\u001b[0;34m\u001b[0m\u001b[0m\n\u001b[1;32m     46\u001b[0m             \u001b[0mfv_GMM_Dense\u001b[0m\u001b[0;34m.\u001b[0m\u001b[0mappend\u001b[0m\u001b[0;34m(\u001b[0m\u001b[0mgetFisherVectorModel\u001b[0m\u001b[0;34m(\u001b[0m\u001b[0mmethod\u001b[0m\u001b[0;34m)\u001b[0m\u001b[0;34m)\u001b[0m\u001b[0;34m\u001b[0m\u001b[0;34m\u001b[0m\u001b[0m\n",
      "\u001b[0;32m<ipython-input-8-470ecf14817a>\u001b[0m in \u001b[0;36mgetFisherVectorModel\u001b[0;34m(method)\u001b[0m\n\u001b[1;32m     17\u001b[0m     \u001b[0;32mif\u001b[0m \u001b[0mmethod\u001b[0m \u001b[0;34m==\u001b[0m \u001b[0;34m\"HoG\"\u001b[0m\u001b[0;34m:\u001b[0m\u001b[0;34m\u001b[0m\u001b[0;34m\u001b[0m\u001b[0m\n\u001b[1;32m     18\u001b[0m         \u001b[0;31m#fv_gmm = FisherVectorGMM(n_kernels=[32,64]).fit(imageFeatures_HoG)\u001b[0m\u001b[0;34m\u001b[0m\u001b[0;34m\u001b[0m\u001b[0;34m\u001b[0m\u001b[0m\n\u001b[0;32m---> 19\u001b[0;31m         \u001b[0mfv_gmm\u001b[0m \u001b[0;34m=\u001b[0m \u001b[0mFisherVectorGMM\u001b[0m\u001b[0;34m(\u001b[0m\u001b[0;34m)\u001b[0m\u001b[0;34m.\u001b[0m\u001b[0mfit_by_bic\u001b[0m\u001b[0;34m(\u001b[0m\u001b[0mnp\u001b[0m\u001b[0;34m.\u001b[0m\u001b[0marray\u001b[0m\u001b[0;34m(\u001b[0m\u001b[0mimageFeatures_HoG\u001b[0m\u001b[0;34m)\u001b[0m\u001b[0;34m,\u001b[0m \u001b[0mchoices_n_kernels\u001b[0m\u001b[0;34m=\u001b[0m\u001b[0;34m[\u001b[0m\u001b[0;36m32\u001b[0m\u001b[0;34m,\u001b[0m\u001b[0;36m64\u001b[0m\u001b[0;34m]\u001b[0m\u001b[0;34m)\u001b[0m\u001b[0;34m\u001b[0m\u001b[0;34m\u001b[0m\u001b[0m\n\u001b[0m\u001b[1;32m     20\u001b[0m \u001b[0;34m\u001b[0m\u001b[0m\n\u001b[1;32m     21\u001b[0m         \u001b[0;32mreturn\u001b[0m \u001b[0mfv_gmm\u001b[0m\u001b[0;34m\u001b[0m\u001b[0;34m\u001b[0m\u001b[0m\n",
      "\u001b[0;32m~/.local/lib/python3.7/site-packages/fishervector/FisherVector.py\u001b[0m in \u001b[0;36mfit_by_bic\u001b[0;34m(self, X, choices_n_kernels, model_dump_path, verbose)\u001b[0m\n\u001b[1;32m     60\u001b[0m \u001b[0;34m\u001b[0m\u001b[0m\n\u001b[1;32m     61\u001b[0m     \u001b[0;32melse\u001b[0m\u001b[0;34m:\u001b[0m\u001b[0;34m\u001b[0m\u001b[0;34m\u001b[0m\u001b[0m\n\u001b[0;32m---> 62\u001b[0;31m       \u001b[0;32mraise\u001b[0m \u001b[0mAssertionError\u001b[0m\u001b[0;34m(\u001b[0m\u001b[0;34m\"X must be an ndarray with 3 or 4 dimensions\"\u001b[0m\u001b[0;34m)\u001b[0m\u001b[0;34m\u001b[0m\u001b[0;34m\u001b[0m\u001b[0m\n\u001b[0m\u001b[1;32m     63\u001b[0m \u001b[0;34m\u001b[0m\u001b[0m\n\u001b[1;32m     64\u001b[0m   \u001b[0;32mdef\u001b[0m \u001b[0mpredict\u001b[0m\u001b[0;34m(\u001b[0m\u001b[0mself\u001b[0m\u001b[0;34m,\u001b[0m \u001b[0mX\u001b[0m\u001b[0;34m,\u001b[0m \u001b[0mnormalized\u001b[0m\u001b[0;34m=\u001b[0m\u001b[0;32mTrue\u001b[0m\u001b[0;34m)\u001b[0m\u001b[0;34m:\u001b[0m\u001b[0;34m\u001b[0m\u001b[0;34m\u001b[0m\u001b[0m\n",
      "\u001b[0;31mAssertionError\u001b[0m: X must be an ndarray with 3 or 4 dimensions"
     ]
    }
   ],
   "source": [
    "#Step(3): To build two functions that compute VLAD and Fisher Vector models of image features\n",
    "\n",
    "#A list to store computed fv_GMM using HoG features\n",
    "fv_GMM_HoG = []\n",
    "\n",
    "#A list to store computed fv_GMM using Dense SIFT featurs\n",
    "fv_GMM_Dense = []\n",
    "\n",
    "#A list to store computed fv_GMM using SIFT features\n",
    "fv_GMM_SIFT = []\n",
    "\n",
    "#python function that computes fisher vector model\n",
    "def getFisherVectorModel(method):\n",
    "    \n",
    "\n",
    "    #To compute HoG:\n",
    "    if method == \"HoG\":\n",
    "        kd = [8,16]\n",
    "        \n",
    "        fv_gmm = FisherVectorGMM().fit_by_bic(np.array(imageFeatures_HoG), choices_n_kernels=[32,64])\n",
    "        \n",
    "        return fv_gmm\n",
    "    \n",
    "    #To compute Dense:    \n",
    "    elif method == \"Dense\":\n",
    "        #fv_gmm = FisherVectorGMM(n_kernels=[32,64,96]).fit(imageFeatures_Dense)\n",
    "        fv_gmm = FisherVectorGMM().fit_by_bic(np.array(imageFeatures_Dense), choices_n_kernels=[32,64,96])\n",
    "\n",
    "        return fv_gmm\n",
    "    \n",
    "\n",
    "\n",
    "    elif method ==\"SIFT\":\n",
    "        #fv_gmm = FisherVectorGMM(n_kernels=[32,64,96]).fit(imageFeatures_SIFT)\n",
    "        fv_gmm = FisherVectorGMM().fit_by_bic(np.array(imageFeatures_SIFT), choices_n_kernels=[32,64,96])\n",
    "\n",
    "        \n",
    "        return fv_gmm\n",
    "\n",
    "\n",
    "#To call getFisherVectorModel and store features in three different lists\n",
    "for method in methods:\n",
    "    for image in images:\n",
    "        if method == \"HoG\":\n",
    "            fv_GMM_HoG.append(getFisherVectorModel(method))\n",
    "        elif method == \"Dense\":\n",
    "            fv_GMM_Dense.append(getFisherVectorModel(method))\n",
    "        elif method ==\"SIFT\":\n",
    "            fv_GMM_SIFT.append(getFisherVectorModel(method))\n",
    "\n",
    "            \n",
    "print(len(fv_GMM_HoG))\n",
    "print(len(fv_GMM_Dense))\n",
    "print(len(fv_GMM_SIFT))"
   ]
  },
  {
   "cell_type": "code",
   "execution_count": null,
   "metadata": {},
   "outputs": [],
   "source": []
  }
 ],
 "metadata": {
  "kernelspec": {
   "display_name": "Python 3",
   "language": "python",
   "name": "python3"
  },
  "language_info": {
   "codemirror_mode": {
    "name": "ipython",
    "version": 3
   },
   "file_extension": ".py",
   "mimetype": "text/x-python",
   "name": "python",
   "nbconvert_exporter": "python",
   "pygments_lexer": "ipython3",
   "version": "3.7.3"
  }
 },
 "nbformat": 4,
 "nbformat_minor": 2
}
